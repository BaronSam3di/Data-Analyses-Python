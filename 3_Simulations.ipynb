{
 "cells": [
  {
   "cell_type": "code",
   "execution_count": 2,
   "metadata": {},
   "outputs": [],
   "source": [
    "import numpy as np"
   ]
  },
  {
   "cell_type": "code",
   "execution_count": 3,
   "metadata": {},
   "outputs": [
    {
     "data": {
      "text/plain": [
       "array([0])"
      ]
     },
     "execution_count": 3,
     "metadata": {},
     "output_type": "execute_result"
    }
   ],
   "source": [
    "# Throwing a coin 1 time: 0 is a tail, 1 heads\n",
    "np.random.randint(low=0,high=2,size=1)        # hihg is non-inclusive"
   ]
  },
  {
   "cell_type": "code",
   "execution_count": 13,
   "metadata": {},
   "outputs": [
    {
     "name": "stdout",
     "output_type": "stream",
     "text": [
      "[1 0 0 1 0 1 0 1 0 1]\n",
      "5\n"
     ]
    }
   ],
   "source": [
    "# Throwing a coun 10 times: 0 is tail, 1 is heads\n",
    "experiment = np.random.randint(0,2,size=10)\n",
    "print(experiment)\n",
    "print(experiment.sum())"
   ]
  },
  {
   "cell_type": "code",
   "execution_count": 8,
   "metadata": {},
   "outputs": [
    {
     "data": {
      "text/plain": [
       "array([[0, 0, 1, 0, 1, 1, 1, 1, 0, 0],\n",
       "       [1, 0, 1, 1, 1, 1, 0, 1, 1, 0],\n",
       "       [0, 1, 1, 1, 1, 1, 1, 0, 0, 1],\n",
       "       [1, 0, 1, 1, 0, 0, 0, 1, 1, 1],\n",
       "       [1, 1, 0, 0, 0, 0, 0, 1, 0, 1]])"
      ]
     },
     "execution_count": 8,
     "metadata": {},
     "output_type": "execute_result"
    }
   ],
   "source": [
    "# Each column of this matrix will be one 10-tosses simulaion\n",
    "coin_matrix = np.random.randint(0,2,size=(1000,10))\n",
    "coin_matrix[:5,:]"
   ]
  },
  {
   "cell_type": "code",
   "execution_count": 12,
   "metadata": {},
   "outputs": [
    {
     "name": "stdout",
     "output_type": "stream",
     "text": [
      "[5 7 7 6 4 3 7 7 4 6 6 6 5 4 2 5 5 5 3 4 5 3 2 5 3]\n",
      "5.074\n",
      "5.0\n",
      "0 10\n",
      "1.5876158225465002\n"
     ]
    }
   ],
   "source": [
    "counts = coin_matrix.sum(axis=1)\n",
    "print(counts[:25])\n",
    "print(counts.mean())\n",
    "print(np.median(counts))\n",
    "print(counts.min(), counts.max())\n",
    "print(counts.std())"
   ]
  },
  {
   "cell_type": "code",
   "execution_count": null,
   "metadata": {},
   "outputs": [],
   "source": []
  }
 ],
 "metadata": {
  "kernelspec": {
   "display_name": "Python 3",
   "language": "python",
   "name": "python3"
  },
  "language_info": {
   "codemirror_mode": {
    "name": "ipython",
    "version": 3
   },
   "file_extension": ".py",
   "mimetype": "text/x-python",
   "name": "python",
   "nbconvert_exporter": "python",
   "pygments_lexer": "ipython3",
   "version": "3.8.5"
  }
 },
 "nbformat": 4,
 "nbformat_minor": 4
}
